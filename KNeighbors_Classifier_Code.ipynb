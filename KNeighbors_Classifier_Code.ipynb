{
  "nbformat": 4,
  "nbformat_minor": 0,
  "metadata": {
    "colab": {
      "name": "KNeighbors Classifier Code",
      "provenance": []
    },
    "kernelspec": {
      "name": "python3",
      "display_name": "Python 3"
    }
  },
  "cells": [
    {
      "cell_type": "markdown",
      "metadata": {
        "id": "b65dDJ0M81Qe"
      },
      "source": [
        "##**IAF 604 - Assignment 2**\n",
        "##**Jeanne Reppert**\n",
        "##**May 1, 2020**"
      ]
    },
    {
      "cell_type": "markdown",
      "metadata": {
        "id": "m7GjSU-VNLq8"
      },
      "source": [
        "## 1. Importing Packages and CSV file"
      ]
    },
    {
      "cell_type": "code",
      "metadata": {
        "id": "VqMXfEHhGGRJ",
        "colab": {
          "base_uri": "https://localhost:8080/",
          "height": 70
        },
        "outputId": "ce9a2337-b977-4b85-f6d0-9244c68b10f4"
      },
      "source": [
        "#import packages\n",
        "import itertools\n",
        "import numpy as np\n",
        "import seaborn as sns\n",
        "import matplotlib.pyplot as plt\n",
        "from matplotlib.ticker import NullFormatter\n",
        "import pandas as pd\n",
        "import numpy as np\n",
        "import matplotlib.ticker as ticker\n",
        "from sklearn import preprocessing\n",
        "%matplotlib inline"
      ],
      "execution_count": null,
      "outputs": [
        {
          "output_type": "stream",
          "text": [
            "/usr/local/lib/python3.6/dist-packages/statsmodels/tools/_testing.py:19: FutureWarning: pandas.util.testing is deprecated. Use the functions in the public API at pandas.testing instead.\n",
            "  import pandas.util.testing as tm\n"
          ],
          "name": "stderr"
        }
      ]
    },
    {
      "cell_type": "code",
      "metadata": {
        "id": "_DzXB0KAGL4J",
        "colab": {
          "base_uri": "https://localhost:8080/",
          "height": 121
        },
        "outputId": "5191cb55-f3e6-4f60-da02-6d740872a5a4"
      },
      "source": [
        "#make connection to google colab drive\n",
        "from google.colab import drive\n",
        "drive.mount('/content/drive')"
      ],
      "execution_count": null,
      "outputs": [
        {
          "output_type": "stream",
          "text": [
            "Go to this URL in a browser: https://accounts.google.com/o/oauth2/auth?client_id=947318989803-6bn6qk8qdgf4n4g3pfee6491hc0brc4i.apps.googleusercontent.com&redirect_uri=urn%3aietf%3awg%3aoauth%3a2.0%3aoob&response_type=code&scope=email%20https%3a%2f%2fwww.googleapis.com%2fauth%2fdocs.test%20https%3a%2f%2fwww.googleapis.com%2fauth%2fdrive%20https%3a%2f%2fwww.googleapis.com%2fauth%2fdrive.photos.readonly%20https%3a%2f%2fwww.googleapis.com%2fauth%2fpeopleapi.readonly\n",
            "\n",
            "Enter your authorization code:\n",
            "··········\n",
            "Mounted at /content/drive\n"
          ],
          "name": "stdout"
        }
      ]
    },
    {
      "cell_type": "code",
      "metadata": {
        "id": "9cqxCyraNTHs"
      },
      "source": [
        "#loading framingham.csv dataset\n",
        "df = pd.read_csv('/content/drive/My Drive/Colab IAF 604/framingham.csv')"
      ],
      "execution_count": null,
      "outputs": []
    },
    {
      "cell_type": "markdown",
      "metadata": {
        "id": "RLY4_t5JNXOI"
      },
      "source": [
        "## 2. Data Exploration"
      ]
    },
    {
      "cell_type": "code",
      "metadata": {
        "id": "Dga5vWJfGeaw",
        "colab": {
          "base_uri": "https://localhost:8080/",
          "height": 195
        },
        "outputId": "4ac53d65-9188-4e75-c4b0-25a2d01ac4a6"
      },
      "source": [
        "#displaying first five observations of dataset\n",
        "df.head()"
      ],
      "execution_count": null,
      "outputs": [
        {
          "output_type": "execute_result",
          "data": {
            "text/html": [
              "<div>\n",
              "<style scoped>\n",
              "    .dataframe tbody tr th:only-of-type {\n",
              "        vertical-align: middle;\n",
              "    }\n",
              "\n",
              "    .dataframe tbody tr th {\n",
              "        vertical-align: top;\n",
              "    }\n",
              "\n",
              "    .dataframe thead th {\n",
              "        text-align: right;\n",
              "    }\n",
              "</style>\n",
              "<table border=\"1\" class=\"dataframe\">\n",
              "  <thead>\n",
              "    <tr style=\"text-align: right;\">\n",
              "      <th></th>\n",
              "      <th>male</th>\n",
              "      <th>age</th>\n",
              "      <th>education</th>\n",
              "      <th>currentSmoker</th>\n",
              "      <th>cigsPerDay</th>\n",
              "      <th>BPMeds</th>\n",
              "      <th>prevalentStroke</th>\n",
              "      <th>prevalentHyp</th>\n",
              "      <th>diabetes</th>\n",
              "      <th>totChol</th>\n",
              "      <th>sysBP</th>\n",
              "      <th>diaBP</th>\n",
              "      <th>BMI</th>\n",
              "      <th>heartRate</th>\n",
              "      <th>glucose</th>\n",
              "      <th>TenYearCHD</th>\n",
              "    </tr>\n",
              "  </thead>\n",
              "  <tbody>\n",
              "    <tr>\n",
              "      <th>0</th>\n",
              "      <td>1</td>\n",
              "      <td>39</td>\n",
              "      <td>4.0</td>\n",
              "      <td>0</td>\n",
              "      <td>0.0</td>\n",
              "      <td>0.0</td>\n",
              "      <td>0</td>\n",
              "      <td>0</td>\n",
              "      <td>0</td>\n",
              "      <td>195.0</td>\n",
              "      <td>106.0</td>\n",
              "      <td>70.0</td>\n",
              "      <td>26.97</td>\n",
              "      <td>80.0</td>\n",
              "      <td>77.0</td>\n",
              "      <td>0</td>\n",
              "    </tr>\n",
              "    <tr>\n",
              "      <th>1</th>\n",
              "      <td>0</td>\n",
              "      <td>46</td>\n",
              "      <td>2.0</td>\n",
              "      <td>0</td>\n",
              "      <td>0.0</td>\n",
              "      <td>0.0</td>\n",
              "      <td>0</td>\n",
              "      <td>0</td>\n",
              "      <td>0</td>\n",
              "      <td>250.0</td>\n",
              "      <td>121.0</td>\n",
              "      <td>81.0</td>\n",
              "      <td>28.73</td>\n",
              "      <td>95.0</td>\n",
              "      <td>76.0</td>\n",
              "      <td>0</td>\n",
              "    </tr>\n",
              "    <tr>\n",
              "      <th>2</th>\n",
              "      <td>1</td>\n",
              "      <td>48</td>\n",
              "      <td>1.0</td>\n",
              "      <td>1</td>\n",
              "      <td>20.0</td>\n",
              "      <td>0.0</td>\n",
              "      <td>0</td>\n",
              "      <td>0</td>\n",
              "      <td>0</td>\n",
              "      <td>245.0</td>\n",
              "      <td>127.5</td>\n",
              "      <td>80.0</td>\n",
              "      <td>25.34</td>\n",
              "      <td>75.0</td>\n",
              "      <td>70.0</td>\n",
              "      <td>0</td>\n",
              "    </tr>\n",
              "    <tr>\n",
              "      <th>3</th>\n",
              "      <td>0</td>\n",
              "      <td>61</td>\n",
              "      <td>3.0</td>\n",
              "      <td>1</td>\n",
              "      <td>30.0</td>\n",
              "      <td>0.0</td>\n",
              "      <td>0</td>\n",
              "      <td>1</td>\n",
              "      <td>0</td>\n",
              "      <td>225.0</td>\n",
              "      <td>150.0</td>\n",
              "      <td>95.0</td>\n",
              "      <td>28.58</td>\n",
              "      <td>65.0</td>\n",
              "      <td>103.0</td>\n",
              "      <td>1</td>\n",
              "    </tr>\n",
              "    <tr>\n",
              "      <th>4</th>\n",
              "      <td>0</td>\n",
              "      <td>46</td>\n",
              "      <td>3.0</td>\n",
              "      <td>1</td>\n",
              "      <td>23.0</td>\n",
              "      <td>0.0</td>\n",
              "      <td>0</td>\n",
              "      <td>0</td>\n",
              "      <td>0</td>\n",
              "      <td>285.0</td>\n",
              "      <td>130.0</td>\n",
              "      <td>84.0</td>\n",
              "      <td>23.10</td>\n",
              "      <td>85.0</td>\n",
              "      <td>85.0</td>\n",
              "      <td>0</td>\n",
              "    </tr>\n",
              "  </tbody>\n",
              "</table>\n",
              "</div>"
            ],
            "text/plain": [
              "   male  age  education  currentSmoker  ...    BMI  heartRate  glucose  TenYearCHD\n",
              "0     1   39        4.0              0  ...  26.97       80.0     77.0           0\n",
              "1     0   46        2.0              0  ...  28.73       95.0     76.0           0\n",
              "2     1   48        1.0              1  ...  25.34       75.0     70.0           0\n",
              "3     0   61        3.0              1  ...  28.58       65.0    103.0           1\n",
              "4     0   46        3.0              1  ...  23.10       85.0     85.0           0\n",
              "\n",
              "[5 rows x 16 columns]"
            ]
          },
          "metadata": {
            "tags": []
          },
          "execution_count": 4
        }
      ]
    },
    {
      "cell_type": "code",
      "metadata": {
        "id": "OkMxS5DGM236",
        "colab": {
          "base_uri": "https://localhost:8080/",
          "height": 195
        },
        "outputId": "060e7b19-26cc-4ecf-d69f-b799899128a4"
      },
      "source": [
        "#checking last five observations of dataset\n",
        "df.tail()\n"
      ],
      "execution_count": null,
      "outputs": [
        {
          "output_type": "execute_result",
          "data": {
            "text/html": [
              "<div>\n",
              "<style scoped>\n",
              "    .dataframe tbody tr th:only-of-type {\n",
              "        vertical-align: middle;\n",
              "    }\n",
              "\n",
              "    .dataframe tbody tr th {\n",
              "        vertical-align: top;\n",
              "    }\n",
              "\n",
              "    .dataframe thead th {\n",
              "        text-align: right;\n",
              "    }\n",
              "</style>\n",
              "<table border=\"1\" class=\"dataframe\">\n",
              "  <thead>\n",
              "    <tr style=\"text-align: right;\">\n",
              "      <th></th>\n",
              "      <th>male</th>\n",
              "      <th>age</th>\n",
              "      <th>education</th>\n",
              "      <th>currentSmoker</th>\n",
              "      <th>cigsPerDay</th>\n",
              "      <th>BPMeds</th>\n",
              "      <th>prevalentStroke</th>\n",
              "      <th>prevalentHyp</th>\n",
              "      <th>diabetes</th>\n",
              "      <th>totChol</th>\n",
              "      <th>sysBP</th>\n",
              "      <th>diaBP</th>\n",
              "      <th>BMI</th>\n",
              "      <th>heartRate</th>\n",
              "      <th>glucose</th>\n",
              "      <th>TenYearCHD</th>\n",
              "    </tr>\n",
              "  </thead>\n",
              "  <tbody>\n",
              "    <tr>\n",
              "      <th>4235</th>\n",
              "      <td>0</td>\n",
              "      <td>48</td>\n",
              "      <td>2.0</td>\n",
              "      <td>1</td>\n",
              "      <td>20.0</td>\n",
              "      <td>NaN</td>\n",
              "      <td>0</td>\n",
              "      <td>0</td>\n",
              "      <td>0</td>\n",
              "      <td>248.0</td>\n",
              "      <td>131.0</td>\n",
              "      <td>72.0</td>\n",
              "      <td>22.00</td>\n",
              "      <td>84.0</td>\n",
              "      <td>86.0</td>\n",
              "      <td>0</td>\n",
              "    </tr>\n",
              "    <tr>\n",
              "      <th>4236</th>\n",
              "      <td>0</td>\n",
              "      <td>44</td>\n",
              "      <td>1.0</td>\n",
              "      <td>1</td>\n",
              "      <td>15.0</td>\n",
              "      <td>0.0</td>\n",
              "      <td>0</td>\n",
              "      <td>0</td>\n",
              "      <td>0</td>\n",
              "      <td>210.0</td>\n",
              "      <td>126.5</td>\n",
              "      <td>87.0</td>\n",
              "      <td>19.16</td>\n",
              "      <td>86.0</td>\n",
              "      <td>NaN</td>\n",
              "      <td>0</td>\n",
              "    </tr>\n",
              "    <tr>\n",
              "      <th>4237</th>\n",
              "      <td>0</td>\n",
              "      <td>52</td>\n",
              "      <td>2.0</td>\n",
              "      <td>0</td>\n",
              "      <td>0.0</td>\n",
              "      <td>0.0</td>\n",
              "      <td>0</td>\n",
              "      <td>0</td>\n",
              "      <td>0</td>\n",
              "      <td>269.0</td>\n",
              "      <td>133.5</td>\n",
              "      <td>83.0</td>\n",
              "      <td>21.47</td>\n",
              "      <td>80.0</td>\n",
              "      <td>107.0</td>\n",
              "      <td>0</td>\n",
              "    </tr>\n",
              "    <tr>\n",
              "      <th>4238</th>\n",
              "      <td>1</td>\n",
              "      <td>40</td>\n",
              "      <td>3.0</td>\n",
              "      <td>0</td>\n",
              "      <td>0.0</td>\n",
              "      <td>0.0</td>\n",
              "      <td>0</td>\n",
              "      <td>1</td>\n",
              "      <td>0</td>\n",
              "      <td>185.0</td>\n",
              "      <td>141.0</td>\n",
              "      <td>98.0</td>\n",
              "      <td>25.60</td>\n",
              "      <td>67.0</td>\n",
              "      <td>72.0</td>\n",
              "      <td>0</td>\n",
              "    </tr>\n",
              "    <tr>\n",
              "      <th>4239</th>\n",
              "      <td>0</td>\n",
              "      <td>39</td>\n",
              "      <td>3.0</td>\n",
              "      <td>1</td>\n",
              "      <td>30.0</td>\n",
              "      <td>0.0</td>\n",
              "      <td>0</td>\n",
              "      <td>0</td>\n",
              "      <td>0</td>\n",
              "      <td>196.0</td>\n",
              "      <td>133.0</td>\n",
              "      <td>86.0</td>\n",
              "      <td>20.91</td>\n",
              "      <td>85.0</td>\n",
              "      <td>80.0</td>\n",
              "      <td>0</td>\n",
              "    </tr>\n",
              "  </tbody>\n",
              "</table>\n",
              "</div>"
            ],
            "text/plain": [
              "      male  age  education  ...  heartRate  glucose  TenYearCHD\n",
              "4235     0   48        2.0  ...       84.0     86.0           0\n",
              "4236     0   44        1.0  ...       86.0      NaN           0\n",
              "4237     0   52        2.0  ...       80.0    107.0           0\n",
              "4238     1   40        3.0  ...       67.0     72.0           0\n",
              "4239     0   39        3.0  ...       85.0     80.0           0\n",
              "\n",
              "[5 rows x 16 columns]"
            ]
          },
          "metadata": {
            "tags": []
          },
          "execution_count": 5
        }
      ]
    },
    {
      "cell_type": "code",
      "metadata": {
        "id": "FBdtUdkaMm17",
        "colab": {
          "base_uri": "https://localhost:8080/",
          "height": 34
        },
        "outputId": "6a80b2e5-7991-48e1-abb3-3d8570b3c652"
      },
      "source": [
        "#dataset has two dimensions\n",
        "df.ndim"
      ],
      "execution_count": null,
      "outputs": [
        {
          "output_type": "execute_result",
          "data": {
            "text/plain": [
              "2"
            ]
          },
          "metadata": {
            "tags": []
          },
          "execution_count": 6
        }
      ]
    },
    {
      "cell_type": "code",
      "metadata": {
        "id": "PzqErkL0OI3H",
        "colab": {
          "base_uri": "https://localhost:8080/",
          "height": 34
        },
        "outputId": "d38ddf98-0380-4107-d4e2-3bf2081c1053"
      },
      "source": [
        "#checking dataset shape - 4240 observations, 16 columns\n",
        "df.shape"
      ],
      "execution_count": null,
      "outputs": [
        {
          "output_type": "execute_result",
          "data": {
            "text/plain": [
              "(4240, 16)"
            ]
          },
          "metadata": {
            "tags": []
          },
          "execution_count": 7
        }
      ]
    },
    {
      "cell_type": "code",
      "metadata": {
        "id": "R-q4zkdFMnlx",
        "colab": {
          "base_uri": "https://localhost:8080/",
          "height": 34
        },
        "outputId": "0af89c47-5648-4c0d-b02e-bbc83e4082d3"
      },
      "source": [
        "#checking number of elements - 67840 total\n",
        "df.size"
      ],
      "execution_count": null,
      "outputs": [
        {
          "output_type": "execute_result",
          "data": {
            "text/plain": [
              "67840"
            ]
          },
          "metadata": {
            "tags": []
          },
          "execution_count": 8
        }
      ]
    },
    {
      "cell_type": "code",
      "metadata": {
        "id": "MtD8V1Y4NuUK",
        "colab": {
          "base_uri": "https://localhost:8080/",
          "height": 302
        },
        "outputId": "9a7eae3e-ee7f-4f3e-f31d-c1f58dd7d0ab"
      },
      "source": [
        "#checking datatypes - all numeric\n",
        "#some in64 and some float64\n",
        "df.dtypes"
      ],
      "execution_count": null,
      "outputs": [
        {
          "output_type": "execute_result",
          "data": {
            "text/plain": [
              "male                 int64\n",
              "age                  int64\n",
              "education          float64\n",
              "currentSmoker        int64\n",
              "cigsPerDay         float64\n",
              "BPMeds             float64\n",
              "prevalentStroke      int64\n",
              "prevalentHyp         int64\n",
              "diabetes             int64\n",
              "totChol            float64\n",
              "sysBP              float64\n",
              "diaBP              float64\n",
              "BMI                float64\n",
              "heartRate          float64\n",
              "glucose            float64\n",
              "TenYearCHD           int64\n",
              "dtype: object"
            ]
          },
          "metadata": {
            "tags": []
          },
          "execution_count": 9
        }
      ]
    },
    {
      "cell_type": "code",
      "metadata": {
        "id": "24xZABbyGemL",
        "colab": {
          "base_uri": "https://localhost:8080/",
          "height": 302
        },
        "outputId": "4329b3aa-cc63-40f4-d682-f176a4378ca7"
      },
      "source": [
        "#checking for nulls - several categories have nulls\n",
        "#glucose is the highest with 388 nulls\n",
        "df.isnull().sum()"
      ],
      "execution_count": null,
      "outputs": [
        {
          "output_type": "execute_result",
          "data": {
            "text/plain": [
              "male                 0\n",
              "age                  0\n",
              "education          105\n",
              "currentSmoker        0\n",
              "cigsPerDay          29\n",
              "BPMeds              53\n",
              "prevalentStroke      0\n",
              "prevalentHyp         0\n",
              "diabetes             0\n",
              "totChol             50\n",
              "sysBP                0\n",
              "diaBP                0\n",
              "BMI                 19\n",
              "heartRate            1\n",
              "glucose            388\n",
              "TenYearCHD           0\n",
              "dtype: int64"
            ]
          },
          "metadata": {
            "tags": []
          },
          "execution_count": 10
        }
      ]
    },
    {
      "cell_type": "code",
      "metadata": {
        "id": "xWSDR16wK1Av"
      },
      "source": [
        "#dropping education variable\n",
        "df = df.drop(['education'], axis = 1)"
      ],
      "execution_count": null,
      "outputs": []
    },
    {
      "cell_type": "code",
      "metadata": {
        "id": "-RK3WzdrNRfx"
      },
      "source": [
        "#removing remaining NA values\n",
        "df = df.dropna()"
      ],
      "execution_count": null,
      "outputs": []
    },
    {
      "cell_type": "code",
      "metadata": {
        "id": "D0evTI2lMLsI",
        "colab": {
          "base_uri": "https://localhost:8080/",
          "height": 286
        },
        "outputId": "e38993fc-9b0b-4383-ddc1-f7ba803459da"
      },
      "source": [
        "#checking dataset null counts after dropna\n",
        "df.isnull().sum()"
      ],
      "execution_count": null,
      "outputs": [
        {
          "output_type": "execute_result",
          "data": {
            "text/plain": [
              "male               0\n",
              "age                0\n",
              "currentSmoker      0\n",
              "cigsPerDay         0\n",
              "BPMeds             0\n",
              "prevalentStroke    0\n",
              "prevalentHyp       0\n",
              "diabetes           0\n",
              "totChol            0\n",
              "sysBP              0\n",
              "diaBP              0\n",
              "BMI                0\n",
              "heartRate          0\n",
              "glucose            0\n",
              "TenYearCHD         0\n",
              "dtype: int64"
            ]
          },
          "metadata": {
            "tags": []
          },
          "execution_count": 13
        }
      ]
    },
    {
      "cell_type": "code",
      "metadata": {
        "id": "0WLFG31IN3bt",
        "colab": {
          "base_uri": "https://localhost:8080/",
          "height": 34
        },
        "outputId": "020d3ba0-9cac-4d19-c876-784c2923a4c1"
      },
      "source": [
        "#cleaned dataset shape - 3751 observations, 15 columns\n",
        "df.shape"
      ],
      "execution_count": null,
      "outputs": [
        {
          "output_type": "execute_result",
          "data": {
            "text/plain": [
              "(3751, 15)"
            ]
          },
          "metadata": {
            "tags": []
          },
          "execution_count": 14
        }
      ]
    },
    {
      "cell_type": "code",
      "metadata": {
        "id": "Vi3woMzgMekn",
        "colab": {
          "base_uri": "https://localhost:8080/",
          "height": 34
        },
        "outputId": "9c7244e4-0cb5-4670-9e33-b7b90f0be8d4"
      },
      "source": [
        "#cleaned dataset size - 56265 elements\n",
        "df.size"
      ],
      "execution_count": null,
      "outputs": [
        {
          "output_type": "execute_result",
          "data": {
            "text/plain": [
              "56265"
            ]
          },
          "metadata": {
            "tags": []
          },
          "execution_count": 15
        }
      ]
    },
    {
      "cell_type": "markdown",
      "metadata": {
        "id": "AGPIKBzzNdvK"
      },
      "source": [
        "## Analysis: \n",
        "*The Framingham dataset is a two dimensional set with a total of 4240 observations, 6 total columns which were all numeric (one being a binary target variable) and 67840 total elements. Feature names included were gender, age, education, smoker, number of cigarettes, BP medications, stroke, hypertension, diabetes, cholesterol, systolic blood pressure, diastolic blood pressure, BMI, heart rate, and glucose. The target variable was the risk of developing heart disease within ten years. Once the education column was removed and the NaN values were removed from the dataset, there were 3751 total observations, 15 columns and 56265 total elements. All data types were either int64 or float64.*"
      ]
    },
    {
      "cell_type": "markdown",
      "metadata": {
        "id": "0ITT45FkNyXn"
      },
      "source": [
        "## 3. Statistical Analysis and Visualizations"
      ]
    },
    {
      "cell_type": "code",
      "metadata": {
        "id": "1y4V-mHDOvrq",
        "colab": {
          "base_uri": "https://localhost:8080/",
          "height": 304
        },
        "outputId": "5e7552ff-4c0c-41c9-9692-9d3046d9948f"
      },
      "source": [
        "#Displaying and exploring count, mean, std, min, max and quartile measures\n",
        "df.describe()"
      ],
      "execution_count": null,
      "outputs": [
        {
          "output_type": "execute_result",
          "data": {
            "text/html": [
              "<div>\n",
              "<style scoped>\n",
              "    .dataframe tbody tr th:only-of-type {\n",
              "        vertical-align: middle;\n",
              "    }\n",
              "\n",
              "    .dataframe tbody tr th {\n",
              "        vertical-align: top;\n",
              "    }\n",
              "\n",
              "    .dataframe thead th {\n",
              "        text-align: right;\n",
              "    }\n",
              "</style>\n",
              "<table border=\"1\" class=\"dataframe\">\n",
              "  <thead>\n",
              "    <tr style=\"text-align: right;\">\n",
              "      <th></th>\n",
              "      <th>male</th>\n",
              "      <th>age</th>\n",
              "      <th>currentSmoker</th>\n",
              "      <th>cigsPerDay</th>\n",
              "      <th>BPMeds</th>\n",
              "      <th>prevalentStroke</th>\n",
              "      <th>prevalentHyp</th>\n",
              "      <th>diabetes</th>\n",
              "      <th>totChol</th>\n",
              "      <th>sysBP</th>\n",
              "      <th>diaBP</th>\n",
              "      <th>BMI</th>\n",
              "      <th>heartRate</th>\n",
              "      <th>glucose</th>\n",
              "      <th>TenYearCHD</th>\n",
              "    </tr>\n",
              "  </thead>\n",
              "  <tbody>\n",
              "    <tr>\n",
              "      <th>count</th>\n",
              "      <td>3751.000000</td>\n",
              "      <td>3751.000000</td>\n",
              "      <td>3751.000000</td>\n",
              "      <td>3751.000000</td>\n",
              "      <td>3751.000000</td>\n",
              "      <td>3751.000000</td>\n",
              "      <td>3751.000000</td>\n",
              "      <td>3751.000000</td>\n",
              "      <td>3751.000000</td>\n",
              "      <td>3751.000000</td>\n",
              "      <td>3751.000000</td>\n",
              "      <td>3751.000000</td>\n",
              "      <td>3751.000000</td>\n",
              "      <td>3751.000000</td>\n",
              "      <td>3751.000000</td>\n",
              "    </tr>\n",
              "    <tr>\n",
              "      <th>mean</th>\n",
              "      <td>0.445215</td>\n",
              "      <td>49.573447</td>\n",
              "      <td>0.488403</td>\n",
              "      <td>9.008531</td>\n",
              "      <td>0.030392</td>\n",
              "      <td>0.005599</td>\n",
              "      <td>0.311917</td>\n",
              "      <td>0.027193</td>\n",
              "      <td>236.928019</td>\n",
              "      <td>132.368435</td>\n",
              "      <td>82.938550</td>\n",
              "      <td>25.808288</td>\n",
              "      <td>75.704079</td>\n",
              "      <td>81.880032</td>\n",
              "      <td>0.152493</td>\n",
              "    </tr>\n",
              "    <tr>\n",
              "      <th>std</th>\n",
              "      <td>0.497056</td>\n",
              "      <td>8.570204</td>\n",
              "      <td>0.499932</td>\n",
              "      <td>11.925097</td>\n",
              "      <td>0.171686</td>\n",
              "      <td>0.074623</td>\n",
              "      <td>0.463338</td>\n",
              "      <td>0.162666</td>\n",
              "      <td>44.611594</td>\n",
              "      <td>22.046522</td>\n",
              "      <td>11.932779</td>\n",
              "      <td>4.065599</td>\n",
              "      <td>11.956382</td>\n",
              "      <td>23.882233</td>\n",
              "      <td>0.359546</td>\n",
              "    </tr>\n",
              "    <tr>\n",
              "      <th>min</th>\n",
              "      <td>0.000000</td>\n",
              "      <td>32.000000</td>\n",
              "      <td>0.000000</td>\n",
              "      <td>0.000000</td>\n",
              "      <td>0.000000</td>\n",
              "      <td>0.000000</td>\n",
              "      <td>0.000000</td>\n",
              "      <td>0.000000</td>\n",
              "      <td>113.000000</td>\n",
              "      <td>83.500000</td>\n",
              "      <td>48.000000</td>\n",
              "      <td>15.540000</td>\n",
              "      <td>44.000000</td>\n",
              "      <td>40.000000</td>\n",
              "      <td>0.000000</td>\n",
              "    </tr>\n",
              "    <tr>\n",
              "      <th>25%</th>\n",
              "      <td>0.000000</td>\n",
              "      <td>42.000000</td>\n",
              "      <td>0.000000</td>\n",
              "      <td>0.000000</td>\n",
              "      <td>0.000000</td>\n",
              "      <td>0.000000</td>\n",
              "      <td>0.000000</td>\n",
              "      <td>0.000000</td>\n",
              "      <td>206.000000</td>\n",
              "      <td>117.000000</td>\n",
              "      <td>75.000000</td>\n",
              "      <td>23.085000</td>\n",
              "      <td>68.000000</td>\n",
              "      <td>71.000000</td>\n",
              "      <td>0.000000</td>\n",
              "    </tr>\n",
              "    <tr>\n",
              "      <th>50%</th>\n",
              "      <td>0.000000</td>\n",
              "      <td>49.000000</td>\n",
              "      <td>0.000000</td>\n",
              "      <td>0.000000</td>\n",
              "      <td>0.000000</td>\n",
              "      <td>0.000000</td>\n",
              "      <td>0.000000</td>\n",
              "      <td>0.000000</td>\n",
              "      <td>234.000000</td>\n",
              "      <td>128.000000</td>\n",
              "      <td>82.000000</td>\n",
              "      <td>25.410000</td>\n",
              "      <td>75.000000</td>\n",
              "      <td>78.000000</td>\n",
              "      <td>0.000000</td>\n",
              "    </tr>\n",
              "    <tr>\n",
              "      <th>75%</th>\n",
              "      <td>1.000000</td>\n",
              "      <td>56.000000</td>\n",
              "      <td>1.000000</td>\n",
              "      <td>20.000000</td>\n",
              "      <td>0.000000</td>\n",
              "      <td>0.000000</td>\n",
              "      <td>1.000000</td>\n",
              "      <td>0.000000</td>\n",
              "      <td>264.000000</td>\n",
              "      <td>144.000000</td>\n",
              "      <td>90.000000</td>\n",
              "      <td>28.060000</td>\n",
              "      <td>82.000000</td>\n",
              "      <td>87.000000</td>\n",
              "      <td>0.000000</td>\n",
              "    </tr>\n",
              "    <tr>\n",
              "      <th>max</th>\n",
              "      <td>1.000000</td>\n",
              "      <td>70.000000</td>\n",
              "      <td>1.000000</td>\n",
              "      <td>70.000000</td>\n",
              "      <td>1.000000</td>\n",
              "      <td>1.000000</td>\n",
              "      <td>1.000000</td>\n",
              "      <td>1.000000</td>\n",
              "      <td>696.000000</td>\n",
              "      <td>295.000000</td>\n",
              "      <td>142.500000</td>\n",
              "      <td>56.800000</td>\n",
              "      <td>143.000000</td>\n",
              "      <td>394.000000</td>\n",
              "      <td>1.000000</td>\n",
              "    </tr>\n",
              "  </tbody>\n",
              "</table>\n",
              "</div>"
            ],
            "text/plain": [
              "              male          age  ...      glucose   TenYearCHD\n",
              "count  3751.000000  3751.000000  ...  3751.000000  3751.000000\n",
              "mean      0.445215    49.573447  ...    81.880032     0.152493\n",
              "std       0.497056     8.570204  ...    23.882233     0.359546\n",
              "min       0.000000    32.000000  ...    40.000000     0.000000\n",
              "25%       0.000000    42.000000  ...    71.000000     0.000000\n",
              "50%       0.000000    49.000000  ...    78.000000     0.000000\n",
              "75%       1.000000    56.000000  ...    87.000000     0.000000\n",
              "max       1.000000    70.000000  ...   394.000000     1.000000\n",
              "\n",
              "[8 rows x 15 columns]"
            ]
          },
          "metadata": {
            "tags": []
          },
          "execution_count": 16
        }
      ]
    },
    {
      "cell_type": "code",
      "metadata": {
        "id": "BvFNx-PVTnlt",
        "colab": {
          "base_uri": "https://localhost:8080/",
          "height": 67
        },
        "outputId": "55e60628-263e-47f7-976d-90fc2265395d"
      },
      "source": [
        "##Checking Gender categories and counts\n",
        "df['male'].value_counts()"
      ],
      "execution_count": null,
      "outputs": [
        {
          "output_type": "execute_result",
          "data": {
            "text/plain": [
              "0    2081\n",
              "1    1670\n",
              "Name: male, dtype: int64"
            ]
          },
          "metadata": {
            "tags": []
          },
          "execution_count": 17
        }
      ]
    },
    {
      "cell_type": "code",
      "metadata": {
        "id": "V1RjDzMLbywW",
        "colab": {
          "base_uri": "https://localhost:8080/",
          "height": 67
        },
        "outputId": "5ac81e80-3ff4-4df1-a3d0-c638965d4dfc"
      },
      "source": [
        "#Checking prevalentHyp categories and counts\n",
        "df['prevalentHyp'].value_counts()"
      ],
      "execution_count": null,
      "outputs": [
        {
          "output_type": "execute_result",
          "data": {
            "text/plain": [
              "0    2581\n",
              "1    1170\n",
              "Name: prevalentHyp, dtype: int64"
            ]
          },
          "metadata": {
            "tags": []
          },
          "execution_count": 18
        }
      ]
    },
    {
      "cell_type": "code",
      "metadata": {
        "id": "DfaYAOYUb3aT",
        "colab": {
          "base_uri": "https://localhost:8080/",
          "height": 67
        },
        "outputId": "8a7b1e3b-a543-43af-bdfb-a97e82ccd187"
      },
      "source": [
        "##Checking prevalentStroke categories and counts\n",
        "df['prevalentStroke'].value_counts()"
      ],
      "execution_count": null,
      "outputs": [
        {
          "output_type": "execute_result",
          "data": {
            "text/plain": [
              "0    3730\n",
              "1      21\n",
              "Name: prevalentStroke, dtype: int64"
            ]
          },
          "metadata": {
            "tags": []
          },
          "execution_count": 19
        }
      ]
    },
    {
      "cell_type": "code",
      "metadata": {
        "id": "lhaL07kXc9kC",
        "colab": {
          "base_uri": "https://localhost:8080/",
          "height": 67
        },
        "outputId": "8121688c-9a27-4833-fb32-19bfe8710cb9"
      },
      "source": [
        "#Checking diabetes categories and counts\n",
        "df['diabetes'].value_counts()"
      ],
      "execution_count": null,
      "outputs": [
        {
          "output_type": "execute_result",
          "data": {
            "text/plain": [
              "0    3649\n",
              "1     102\n",
              "Name: diabetes, dtype: int64"
            ]
          },
          "metadata": {
            "tags": []
          },
          "execution_count": 20
        }
      ]
    },
    {
      "cell_type": "code",
      "metadata": {
        "id": "CkbnA2r6UKXD",
        "colab": {
          "base_uri": "https://localhost:8080/",
          "height": 67
        },
        "outputId": "9e4d8e8c-2c0e-4e8b-bf55-1d45babac340"
      },
      "source": [
        "#Checking currentSmoker categories and counts\n",
        "df['currentSmoker'].value_counts()"
      ],
      "execution_count": null,
      "outputs": [
        {
          "output_type": "execute_result",
          "data": {
            "text/plain": [
              "0    1919\n",
              "1    1832\n",
              "Name: currentSmoker, dtype: int64"
            ]
          },
          "metadata": {
            "tags": []
          },
          "execution_count": 21
        }
      ]
    },
    {
      "cell_type": "code",
      "metadata": {
        "id": "DeuFjaPYUbAZ",
        "colab": {
          "base_uri": "https://localhost:8080/",
          "height": 67
        },
        "outputId": "f2ed3549-ee88-4830-be70-02eb0f46eaf5"
      },
      "source": [
        "#Checking BPMeds categories and counts\n",
        "df['BPMeds'].value_counts()"
      ],
      "execution_count": null,
      "outputs": [
        {
          "output_type": "execute_result",
          "data": {
            "text/plain": [
              "0.0    3637\n",
              "1.0     114\n",
              "Name: BPMeds, dtype: int64"
            ]
          },
          "metadata": {
            "tags": []
          },
          "execution_count": 22
        }
      ]
    },
    {
      "cell_type": "code",
      "metadata": {
        "button": false,
        "new_sheet": false,
        "run_control": {
          "read_only": false
        },
        "id": "0s4_xwfTdKgo",
        "colab": {
          "base_uri": "https://localhost:8080/",
          "height": 67
        },
        "outputId": "a1add23e-c280-44f3-883f-9c8f8ed5bf5e"
      },
      "source": [
        "#Checking TenYearCHD categories and counts\n",
        "df['TenYearCHD'].value_counts()"
      ],
      "execution_count": null,
      "outputs": [
        {
          "output_type": "execute_result",
          "data": {
            "text/plain": [
              "0    3179\n",
              "1     572\n",
              "Name: TenYearCHD, dtype: int64"
            ]
          },
          "metadata": {
            "tags": []
          },
          "execution_count": 23
        }
      ]
    },
    {
      "cell_type": "code",
      "metadata": {
        "id": "dtdI6CpwYfEe",
        "colab": {
          "base_uri": "https://localhost:8080/",
          "height": 279
        },
        "outputId": "2c31b455-15e8-4fc0-8407-7a43d74306e0"
      },
      "source": [
        "#Target distribution - target is imbalanced\n",
        "sns.countplot(x='TenYearCHD',data=df)\n",
        "plt.show()"
      ],
      "execution_count": null,
      "outputs": [
        {
          "output_type": "display_data",
          "data": {
            "image/png": "[encoded data removed]",
            "text/plain": [
              "<Figure size 432x288 with 1 Axes>"
            ]
          },
          "metadata": {
            "tags": [],
            "needs_background": "light"
          }
        }
      ]
    },
    {
      "cell_type": "code",
      "metadata": {
        "id": "X1GV99PyGesp",
        "colab": {
          "base_uri": "https://localhost:8080/",
          "height": 533
        },
        "outputId": "6c33c48a-82af-449b-991f-1e6e545de27e"
      },
      "source": [
        "#Looking at distributions for BMI, age, cigsPerDay, diaBP, glucose and heartRate\n",
        "df_subset = df.drop(['TenYearCHD', 'BPMeds', 'male', 'currentSmoker', \n",
        "                     'diabetes', 'prevalentHyp', 'prevalentStroke'], axis = 1)\n",
        "fig = plt.figure(figsize = (10,8))\n",
        "ax = fig.gca()\n",
        "df_subset.hist(ax = ax)\n",
        "plt.show()"
      ],
      "execution_count": null,
      "outputs": [
        {
          "output_type": "stream",
          "text": [
            "/usr/local/lib/python3.6/dist-packages/ipykernel_launcher.py:5: UserWarning: To output multiple subplots, the figure containing the passed axes is being cleared\n",
            "  \"\"\"\n"
          ],
          "name": "stderr"
        },
        {
          "output_type": "display_data",
          "data": {
            "image/png": "[encoded data removed]",
            "text/plain": [
              "<Figure size 720x576 with 9 Axes>"
            ]
          },
          "metadata": {
            "tags": [],
            "needs_background": "light"
          }
        }
      ]
    },
    {
      "cell_type": "markdown",
      "metadata": {
        "id": "sSxFSdENONwi"
      },
      "source": [
        "## Statistical Analysis:\n",
        "*Since the KNN algorithm is non-parametric, the distribution of the data is not quite as much of a concern. Nonetheless some exploration was done to become familiar with the statistical measures of the data. For the gender (female=0, male=1) variable, there were 2081 females and 1670 males. The mean participant age given the observations was 49.57 and the median age was 49 indicating a relatively normal distribution of age. Overall, participants smoked an average of 9 cigarettes a day, however, a little more than half of the participants (1919) were non-smokers. A relatively small amount of the participants (114) took blood pressure medication. For the prevalent stroke category there were only 21 participants that indicated a stroke. 1170 of the participants reported hypertension and 2581 of the participants did not report hypertension. Only 102 of the participants reported diabetes.\n",
        "\n",
        "The mean BMI of the participants was 25.81 and the mean heart rate was 75.70. The mean diastolic blood pressure was 82.94 and the mean systolic blood pressure was 132.37. The mean glucose measure was 81.88 and the mean cholesterol was 236.93. \n",
        "*"
      ]
    },
    {
      "cell_type": "code",
      "metadata": {
        "id": "ObSLRVLpODQw",
        "colab": {
          "base_uri": "https://localhost:8080/",
          "height": 552
        },
        "outputId": "9357e556-2f50-4fae-9a37-e3ab1173701d"
      },
      "source": [
        "# Exploring correlations between variables\n",
        "corr = df.corr()\n",
        "g = sns.heatmap(corr,  vmax=.3, center=0,\n",
        "            square=True, linewidths=.5, cbar_kws={\"shrink\": .5}, annot=True, fmt='.2f', cmap='coolwarm')\n",
        "sns.despine()\n",
        "g.figure.set_size_inches(12,8)\n",
        "    \n",
        "plt.show()"
      ],
      "execution_count": null,
      "outputs": [
        {
          "output_type": "display_data",
          "data": {
            "image/png": "[encoded data removed]",
            "text/plain": [
              "<Figure size 864x576 with 2 Axes>"
            ]
          },
          "metadata": {
            "tags": [],
            "needs_background": "light"
          }
        }
      ]
    },
    {
      "cell_type": "markdown",
      "metadata": {
        "id": "ZGEeOUa1OgyL"
      },
      "source": [
        "## Analysis of correlation plot and conclusions:\n",
        "*Understandably, there was indeed a strong correlation between hypertension and blood pressure, as well as a strong correlation between diabetes and glucose. There also was predictably a strong correlation between the number of cigarettes smoked per day and the currentSmoker variable. For this reason, the variables for diabetes, hypertension and current smoker will be eliminated since the other measures give more specific information about the same topic.*"
      ]
    },
    {
      "cell_type": "code",
      "metadata": {
        "id": "EMUXMEG0i20i"
      },
      "source": [
        "df = df.drop(['currentSmoker', 'prevalentHyp', 'diabetes'], axis = 1)"
      ],
      "execution_count": null,
      "outputs": []
    },
    {
      "cell_type": "markdown",
      "metadata": {
        "id": "FoSOeNuyOFRS"
      },
      "source": [
        "## 4. Convert dataframe to Numpy array"
      ]
    },
    {
      "cell_type": "code",
      "metadata": {
        "id": "XwZo845zGev-",
        "colab": {
          "base_uri": "https://localhost:8080/",
          "height": 67
        },
        "outputId": "a8cda16d-2b5f-4130-c0f7-7298935b9636"
      },
      "source": [
        "#display columns\n",
        "df.columns"
      ],
      "execution_count": null,
      "outputs": [
        {
          "output_type": "execute_result",
          "data": {
            "text/plain": [
              "Index(['male', 'age', 'cigsPerDay', 'BPMeds', 'prevalentStroke', 'totChol',\n",
              "       'sysBP', 'diaBP', 'BMI', 'heartRate', 'glucose', 'TenYearCHD'],\n",
              "      dtype='object')"
            ]
          },
          "metadata": {
            "tags": []
          },
          "execution_count": 28
        }
      ]
    },
    {
      "cell_type": "code",
      "metadata": {
        "id": "xIBbwXMHJBhy",
        "colab": {
          "base_uri": "https://localhost:8080/",
          "height": 185
        },
        "outputId": "6f29ac27-0cbf-460a-cda2-9f9ea6e42452"
      },
      "source": [
        "##converting X valriables in the dataframe to a numpy array\n",
        "X = df[['male', 'age', 'cigsPerDay', 'BPMeds', 'prevalentStroke', 'totChol',\n",
        "       'sysBP', 'diaBP', 'BMI', 'heartRate', 'glucose']] .values  #.astype(float)\n",
        "X[0:5]\n"
      ],
      "execution_count": null,
      "outputs": [
        {
          "output_type": "execute_result",
          "data": {
            "text/plain": [
              "array([[  1.  ,  39.  ,   0.  ,   0.  ,   0.  , 195.  , 106.  ,  70.  ,\n",
              "         26.97,  80.  ,  77.  ],\n",
              "       [  0.  ,  46.  ,   0.  ,   0.  ,   0.  , 250.  , 121.  ,  81.  ,\n",
              "         28.73,  95.  ,  76.  ],\n",
              "       [  1.  ,  48.  ,  20.  ,   0.  ,   0.  , 245.  , 127.5 ,  80.  ,\n",
              "         25.34,  75.  ,  70.  ],\n",
              "       [  0.  ,  61.  ,  30.  ,   0.  ,   0.  , 225.  , 150.  ,  95.  ,\n",
              "         28.58,  65.  , 103.  ],\n",
              "       [  0.  ,  46.  ,  23.  ,   0.  ,   0.  , 285.  , 130.  ,  84.  ,\n",
              "         23.1 ,  85.  ,  85.  ]])"
            ]
          },
          "metadata": {
            "tags": []
          },
          "execution_count": 29
        }
      ]
    },
    {
      "cell_type": "code",
      "metadata": {
        "id": "ADVV_tOqJBvV",
        "colab": {
          "base_uri": "https://localhost:8080/",
          "height": 34
        },
        "outputId": "fb6d48aa-ba35-4a58-87cc-75f061967217"
      },
      "source": [
        "#convert target variable\n",
        "y = df['TenYearCHD'].values\n",
        "y[0:5]\n"
      ],
      "execution_count": null,
      "outputs": [
        {
          "output_type": "execute_result",
          "data": {
            "text/plain": [
              "array([0, 0, 0, 1, 0])"
            ]
          },
          "metadata": {
            "tags": []
          },
          "execution_count": 30
        }
      ]
    },
    {
      "cell_type": "markdown",
      "metadata": {
        "id": "Imsqmlr5RQum"
      },
      "source": [
        "##  5. Normalize Data using standard scaler"
      ]
    },
    {
      "cell_type": "code",
      "metadata": {
        "id": "e-E5hV8OJB9U",
        "colab": {
          "base_uri": "https://localhost:8080/",
          "height": 269
        },
        "outputId": "a0f1aed2-d7b9-4d62-a39d-398862221498"
      },
      "source": [
        "X = preprocessing.StandardScaler().fit(X).transform(X.astype(float))\n",
        "X[0:5]"
      ],
      "execution_count": null,
      "outputs": [
        {
          "output_type": "execute_result",
          "data": {
            "text/plain": [
              "array([[ 1.11629198, -1.23390951, -0.75552698, -0.17704382, -0.0750335 ,\n",
              "        -0.93997111, -1.19619549, -1.08443091,  0.28577991,  0.35934732,\n",
              "        -0.20436458],\n",
              "       [-0.89582297, -0.4170173 , -0.75552698, -0.17704382, -0.0750335 ,\n",
              "         0.29305664, -0.51572536, -0.1624775 ,  0.7187382 ,  1.61407468,\n",
              "        -0.24624229],\n",
              "       [ 1.11629198, -0.18361952,  0.9218319 , -0.17704382, -0.0750335 ,\n",
              "         0.18096321, -0.22085497, -0.24629145, -0.11519851, -0.05889514,\n",
              "        -0.49750858],\n",
              "       [-0.89582297,  1.33346602,  1.76051134, -0.17704382, -0.0750335 ,\n",
              "        -0.26741052,  0.79985021,  1.01091774,  0.68183835, -0.89538005,\n",
              "         0.88445597],\n",
              "       [-0.89582297, -0.4170173 ,  1.17343573, -0.17704382, -0.0750335 ,\n",
              "         1.07771066, -0.10744329,  0.08896434, -0.66623633,  0.77758977,\n",
              "         0.13065713]])"
            ]
          },
          "metadata": {
            "tags": []
          },
          "execution_count": 31
        }
      ]
    },
    {
      "cell_type": "markdown",
      "metadata": {
        "id": "dBpi1w9pRi6f"
      },
      "source": [
        "##  6. Splitting dataset to test/train sets"
      ]
    },
    {
      "cell_type": "code",
      "metadata": {
        "id": "Vn-VM1vGJn4P",
        "colab": {
          "base_uri": "https://localhost:8080/",
          "height": 50
        },
        "outputId": "432d8f87-ecc2-4391-b83a-03dac74b5244"
      },
      "source": [
        "from sklearn.model_selection import train_test_split\n",
        "X_train, X_test, y_train, y_test = train_test_split( X, y, test_size=0.2, random_state=4)\n",
        "print ('Train set:', X_train.shape,  y_train.shape)\n",
        "print ('Test set:', X_test.shape,  y_test.shape)\n",
        "#results in train set of 3000 observations and test set of 751 observations"
      ],
      "execution_count": null,
      "outputs": [
        {
          "output_type": "stream",
          "text": [
            "Train set: (3000, 11) (3000,)\n",
            "Test set: (751, 11) (751,)\n"
          ],
          "name": "stdout"
        }
      ]
    },
    {
      "cell_type": "markdown",
      "metadata": {
        "id": "IC7MaLxxRqCe"
      },
      "source": [
        "##  7. Implementing KNN Algorithm Using KNeighborsClassifer\n",
        "##  and Making Predictions"
      ]
    },
    {
      "cell_type": "code",
      "metadata": {
        "id": "tYbWSchVJn75"
      },
      "source": [
        "from sklearn.neighbors import KNeighborsClassifier"
      ],
      "execution_count": null,
      "outputs": []
    },
    {
      "cell_type": "code",
      "metadata": {
        "id": "TSdc-eIKJn_B",
        "colab": {
          "base_uri": "https://localhost:8080/",
          "height": 67
        },
        "outputId": "1f2ae1d1-6485-4bd5-9bb4-c02d8b09b477"
      },
      "source": [
        "#select n_neighbors value of 4\n",
        "k = 4\n",
        "#Train Model and Predict  \n",
        "neigh = KNeighborsClassifier(n_neighbors = k).fit(X_train,y_train)\n",
        "neigh"
      ],
      "execution_count": null,
      "outputs": [
        {
          "output_type": "execute_result",
          "data": {
            "text/plain": [
              "KNeighborsClassifier(algorithm='auto', leaf_size=30, metric='minkowski',\n",
              "                     metric_params=None, n_jobs=None, n_neighbors=4, p=2,\n",
              "                     weights='uniform')"
            ]
          },
          "metadata": {
            "tags": []
          },
          "execution_count": 34
        }
      ]
    },
    {
      "cell_type": "code",
      "metadata": {
        "id": "CSCNxRYlJn1k",
        "colab": {
          "base_uri": "https://localhost:8080/",
          "height": 34
        },
        "outputId": "59b40c26-2be9-4d76-ea05-1187a946703b"
      },
      "source": [
        "#use model to predic test set\n",
        "yhat = neigh.predict(X_test)\n",
        "yhat[0:5]"
      ],
      "execution_count": null,
      "outputs": [
        {
          "output_type": "execute_result",
          "data": {
            "text/plain": [
              "array([0, 0, 0, 0, 0])"
            ]
          },
          "metadata": {
            "tags": []
          },
          "execution_count": 35
        }
      ]
    },
    {
      "cell_type": "markdown",
      "metadata": {
        "id": "v27DVCYFSg33"
      },
      "source": [
        "## 8. Quantitative/Qualitative Analysis"
      ]
    },
    {
      "cell_type": "code",
      "metadata": {
        "id": "LPFvlR9gJ3wt",
        "colab": {
          "base_uri": "https://localhost:8080/",
          "height": 50
        },
        "outputId": "154759a3-58d3-4f49-eedf-63bc3f065c51"
      },
      "source": [
        "# find train and test set accuracy (train - 0.8677 and test - 0.84)\n",
        "from sklearn import metrics\n",
        "print(\"Train set Accuracy: \", metrics.accuracy_score(y_train, neigh.predict(X_train)))\n",
        "print(\"Test set Accuracy: \", metrics.accuracy_score(y_test, yhat))"
      ],
      "execution_count": null,
      "outputs": [
        {
          "output_type": "stream",
          "text": [
            "Train set Accuracy:  0.8676666666666667\n",
            "Test set Accuracy:  0.8402130492676432\n"
          ],
          "name": "stdout"
        }
      ]
    },
    {
      "cell_type": "markdown",
      "metadata": {
        "id": "SO_v5X6USoNb"
      },
      "source": [
        "### Finding best K for classification accuracy"
      ]
    },
    {
      "cell_type": "code",
      "metadata": {
        "id": "x6PTNGhiJ3zG",
        "colab": {
          "base_uri": "https://localhost:8080/",
          "height": 50
        },
        "outputId": "5bdd0029-a521-4630-c914-158df89fed92"
      },
      "source": [
        "#measure and find best K for k=1:10 using accuracy score\n",
        "Ks = 10\n",
        "mean_acc = np.zeros((Ks-1))\n",
        "std_acc = np.zeros((Ks-1))\n",
        "ConfustionMx = [];\n",
        "for n in range(1,Ks):\n",
        "    \n",
        "    #Train Model and Predict  \n",
        "    neigh = KNeighborsClassifier(n_neighbors = n).fit(X_train,y_train)\n",
        "    yhat=neigh.predict(X_test)\n",
        "    mean_acc[n-1] = metrics.accuracy_score(y_test, yhat)\n",
        "\n",
        "    \n",
        "    std_acc[n-1]=np.std(yhat==y_test)/np.sqrt(yhat.shape[0])\n",
        "\n",
        "mean_acc"
      ],
      "execution_count": null,
      "outputs": [
        {
          "output_type": "execute_result",
          "data": {
            "text/plain": [
              "array([0.7816245 , 0.83888149, 0.82956059, 0.84021305, 0.84021305,\n",
              "       0.83888149, 0.83888149, 0.84154461, 0.84420772])"
            ]
          },
          "metadata": {
            "tags": []
          },
          "execution_count": 37
        }
      ]
    },
    {
      "cell_type": "code",
      "metadata": {
        "id": "eMnyPl5NJ31t",
        "colab": {
          "base_uri": "https://localhost:8080/",
          "height": 297
        },
        "outputId": "e4ceb898-e095-426b-b355-0884d3d065df"
      },
      "source": [
        "#plot accuracy results for k=1:10\n",
        "plt.plot(range(1,Ks),mean_acc,'g')\n",
        "plt.fill_between(range(1,Ks),mean_acc - 1 * std_acc,mean_acc + 1 * std_acc, alpha=0.10)\n",
        "plt.legend(('Accuracy ', '+/- 3xstd'))\n",
        "plt.ylabel('Accuracy ')\n",
        "plt.xlabel('Number of Neighbors (K)')\n",
        "plt.tight_layout()\n",
        "plt.show()"
      ],
      "execution_count": null,
      "outputs": [
        {
          "output_type": "display_data",
          "data": {
            "image/png": "[encoded data removed]",
            "text/plain": [
              "<Figure size 432x288 with 1 Axes>"
            ]
          },
          "metadata": {
            "tags": [],
            "needs_background": "light"
          }
        }
      ]
    },
    {
      "cell_type": "code",
      "metadata": {
        "id": "2Ddx_wO6J35G",
        "colab": {
          "base_uri": "https://localhost:8080/",
          "height": 34
        },
        "outputId": "4e9ddcfc-1e89-4702-917b-6e2ee3d3e81d"
      },
      "source": [
        "#finding and printing k value with best accuracy score\n",
        "print( \"The best accuracy was with\", mean_acc.max(), \"with k=\", mean_acc.argmax()+1) "
      ],
      "execution_count": null,
      "outputs": [
        {
          "output_type": "stream",
          "text": [
            "The best accuracy was with 0.844207723035952 with k= 9\n"
          ],
          "name": "stdout"
        }
      ]
    },
    {
      "cell_type": "markdown",
      "metadata": {
        "id": "_NuvYdbNTdb1"
      },
      "source": [
        "### Other Measures"
      ]
    },
    {
      "cell_type": "code",
      "metadata": {
        "id": "xZMjG7jYSASP"
      },
      "source": [
        "#import confusion matrix from sklearn.metrics\n",
        "from sklearn.metrics import confusion_matrix"
      ],
      "execution_count": null,
      "outputs": []
    },
    {
      "cell_type": "code",
      "metadata": {
        "id": "clGwuzsTJ3um",
        "colab": {
          "base_uri": "https://localhost:8080/",
          "height": 279
        },
        "outputId": "51bf30d0-1cdd-458b-a7bd-31f878640d45"
      },
      "source": [
        "#create and plot confusion matrix using test set target and predicted target\n",
        "cm = confusion_matrix(y_test, yhat)\n",
        "\n",
        "ax= plt.subplot()\n",
        "sns.heatmap(pd.DataFrame(cm), annot=True,cmap=\"Reds\" , fmt='g')\n",
        "\n",
        "ax.set_xlabel('Predicted ');ax.set_ylabel('True'); "
      ],
      "execution_count": null,
      "outputs": [
        {
          "output_type": "display_data",
          "data": {
            "image/png": "[encoded data removed]",
            "text/plain": [
              "<Figure size 432x288 with 2 Axes>"
            ]
          },
          "metadata": {
            "tags": [],
            "needs_background": "light"
          }
        }
      ]
    },
    {
      "cell_type": "code",
      "metadata": {
        "id": "_rLQFwz7T7KM"
      },
      "source": [
        "#import packages for roc curve and auc score\n",
        "from sklearn.metrics import roc_curve\n",
        "from sklearn.metrics import roc_auc_score"
      ],
      "execution_count": null,
      "outputs": []
    },
    {
      "cell_type": "code",
      "metadata": {
        "id": "kLKiVYuWTlvC",
        "colab": {
          "base_uri": "https://localhost:8080/",
          "height": 298
        },
        "outputId": "a7506393-61c5-4954-c1be-6be702f16bf9"
      },
      "source": [
        "#Calculate and plot roc curve and auc score\n",
        "fpr, tpr, _ = roc_curve(y_test, yhat)\n",
        "auc = roc_auc_score(y_test, yhat)\n",
        "plt.plot(fpr,tpr,label=\"data 1, auc=\"+str(auc))\n",
        "plt.legend(loc=4)\n",
        "plt.box(False)\n",
        "plt.title ('ROC CURVE KNN')\n",
        "plt.show()\n",
        "\n",
        "print(f\"The score for the AUC ROC Curve is: {round(auc,3)*100}%\")"
      ],
      "execution_count": null,
      "outputs": [
        {
          "output_type": "display_data",
          "data": {
            "image/png": "[encoded data removed]",
            "text/plain": [
              "<Figure size 432x288 with 1 Axes>"
            ]
          },
          "metadata": {
            "tags": [],
            "needs_background": "light"
          }
        },
        {
          "output_type": "stream",
          "text": [
            "The score for the AUC ROC Curve is: 53.0%\n"
          ],
          "name": "stdout"
        }
      ]
    },
    {
      "cell_type": "code",
      "metadata": {
        "id": "Isnr2i1ty2QQ",
        "colab": {
          "base_uri": "https://localhost:8080/",
          "height": 168
        },
        "outputId": "9e2bbbc8-cf47-4917-efb2-aaca3a3ab1ec"
      },
      "source": [
        "#import classification report from sklearn.metrics\n",
        "from sklearn.metrics import classification_report \n",
        "\n",
        "model_classification = classification_report(y_test, yhat)\n",
        "print(model_classification)"
      ],
      "execution_count": null,
      "outputs": [
        {
          "output_type": "stream",
          "text": [
            "              precision    recall  f1-score   support\n",
            "\n",
            "           0       0.85      0.98      0.91       636\n",
            "           1       0.45      0.08      0.13       115\n",
            "\n",
            "    accuracy                           0.84       751\n",
            "   macro avg       0.65      0.53      0.52       751\n",
            "weighted avg       0.79      0.84      0.79       751\n",
            "\n"
          ],
          "name": "stdout"
        }
      ]
    },
    {
      "cell_type": "code",
      "metadata": {
        "id": "z9lsQxoEzzyI",
        "colab": {
          "base_uri": "https://localhost:8080/",
          "height": 84
        },
        "outputId": "437444b8-d48f-4b30-9924-5c31b8a938e2"
      },
      "source": [
        "###Compute additional quantitative measures\n",
        "##Accuracy was 0.84, Sensitivty was 0.98\n",
        "##Sensitivity was 0.078 and Youden's Index was 0.061\n",
        "total=sum(sum(cm))\n",
        "#####from confusion matrix calculate accuracy\n",
        "accuracy=(cm[0,0]+cm[1,1])/total\n",
        "print ('Accuracy : ', accuracy)\n",
        "\n",
        "sensitivity = cm[0,0]/(cm[0,0]+cm[0,1])\n",
        "print('Sensitivity : ', sensitivity)\n",
        "\n",
        "specificity = cm[1,1]/(cm[1,0]+cm[1,1])\n",
        "print('Specificity : ', specificity)\n",
        "\n",
        "#Youden's Index\n",
        "youden = specificity + sensitivity - 1\n",
        "print('Youden Index : ', youden)"
      ],
      "execution_count": null,
      "outputs": [
        {
          "output_type": "stream",
          "text": [
            "Accuracy :  0.844207723035952\n",
            "Sensitivity :  0.9827044025157232\n",
            "Specificity :  0.0782608695652174\n",
            "Youden Index :  0.0609652720809406\n"
          ],
          "name": "stdout"
        }
      ]
    },
    {
      "cell_type": "markdown",
      "metadata": {
        "id": "C3uO3SKthJWb"
      },
      "source": [
        "## Analysis:\n",
        "*The precision score for the model was 0.84 with a sensitivity score of .98 and a specificity score of .08. While the accuracy measures were reasonable and the test and train set accuracies were relatively close, the confusion matrix and sensitivity/specificity scores along with the Youden Index tell another story. Most of the accurate predictions that were made involved predicting those who were not at a 10 year risk for heart disease but only 9 correct predictions were made for those who actually might be at a 10 year risk for heart disease. There were also 106 false positives predicted (predicted as not at risk when the participant was at risk). Overall, given these measures the resulting Youden’s Index was fairly low (0.061). *"
      ]
    },
    {
      "cell_type": "markdown",
      "metadata": {
        "id": "bxq4YD5zVnaB"
      },
      "source": [
        "## 9. Creating a Balanced Target Variable with Sampling"
      ]
    },
    {
      "cell_type": "code",
      "metadata": {
        "id": "MLe4ieuaUh0G",
        "colab": {
          "base_uri": "https://localhost:8080/",
          "height": 295
        },
        "outputId": "39b3b0f1-bc04-4d87-977d-4bf0c772a67a"
      },
      "source": [
        "# Create a sameple set based on balanced TenYear CHD values (576 in each category)\n",
        "sample_df = df.sample(frac=1,random_state=4)\n",
        "\n",
        "TenY_df = sample_df.loc[sample_df['TenYearCHD'] == 1]\n",
        "\n",
        "non_TenY_df = sample_df.loc[sample_df['TenYearCHD'] == 0].sample(n=576,random_state=42)\n",
        "\n",
        "# Concatenate both dataframes and assign new\n",
        "# dataset name of df_norm\n",
        "df_norm = pd.concat([TenY_df, non_TenY_df])\n",
        "\n",
        "# check new class counts for TenYearCHD\n",
        "df_norm.TenYearCHD.value_counts()\n",
        "\n",
        "# plot new count for TenYearCHD\n",
        "sns.countplot(df_norm.TenYearCHD)\n",
        "plt.box()\n",
        "plt.xlabel('Heart Disease',fontsize=11)\n",
        "plt.ylabel('Observations',fontsize=11)\n",
        "plt.title('Balanced Heart Disease Data')\n",
        "plt.show()"
      ],
      "execution_count": null,
      "outputs": [
        {
          "output_type": "display_data",
          "data": {
            "image/png": "[encoded data removed]",
            "text/plain": [
              "<Figure size 432x288 with 1 Axes>"
            ]
          },
          "metadata": {
            "tags": [],
            "needs_background": "light"
          }
        }
      ]
    },
    {
      "cell_type": "markdown",
      "metadata": {
        "id": "9d6KDIyvWUk-"
      },
      "source": [
        "##  10. Converting X_norm and y_norm to a Numpy Array"
      ]
    },
    {
      "cell_type": "code",
      "metadata": {
        "id": "cDQbt6CfhkYE",
        "colab": {
          "base_uri": "https://localhost:8080/",
          "height": 185
        },
        "outputId": "9c885678-e54f-43dc-b404-37e33424a75a"
      },
      "source": [
        "X_norm = df_norm[['male', 'age', 'cigsPerDay', 'BPMeds',\n",
        "       'prevalentStroke', 'totChol', 'sysBP',\n",
        "       'diaBP', 'BMI', 'heartRate', 'glucose']] .values  #.astype(float)\n",
        "X_norm[0:5]"
      ],
      "execution_count": null,
      "outputs": [
        {
          "output_type": "execute_result",
          "data": {
            "text/plain": [
              "array([[  0.  ,  63.  ,  40.  ,   0.  ,   0.  , 179.  , 116.  ,  69.  ,\n",
              "         22.15,  95.  ,  75.  ],\n",
              "       [  1.  ,  62.  ,   0.  ,   0.  ,   0.  , 240.  , 152.  ,  95.  ,\n",
              "         25.37,  63.  ,  70.  ],\n",
              "       [  0.  ,  59.  ,   0.  ,   0.  ,   0.  , 240.  , 155.5 , 100.5 ,\n",
              "         33.54,  72.  , 116.  ],\n",
              "       [  1.  ,  58.  ,   0.  ,   0.  ,   0.  , 220.  , 143.  , 104.  ,\n",
              "         29.85,  75.  ,  87.  ],\n",
              "       [  1.  ,  49.  ,   9.  ,   0.  ,   0.  , 278.  , 152.  ,  93.  ,\n",
              "         29.76,  64.  ,  63.  ]])"
            ]
          },
          "metadata": {
            "tags": []
          },
          "execution_count": 47
        }
      ]
    },
    {
      "cell_type": "code",
      "metadata": {
        "id": "EEAr49bBhkbE",
        "colab": {
          "base_uri": "https://localhost:8080/",
          "height": 34
        },
        "outputId": "e21bc074-f5ee-40cb-9dd1-8cd92844c065"
      },
      "source": [
        "y_norm = df_norm['TenYearCHD'].values\n",
        "y[0:5]"
      ],
      "execution_count": null,
      "outputs": [
        {
          "output_type": "execute_result",
          "data": {
            "text/plain": [
              "array([0, 0, 0, 1, 0])"
            ]
          },
          "metadata": {
            "tags": []
          },
          "execution_count": 48
        }
      ]
    },
    {
      "cell_type": "markdown",
      "metadata": {
        "id": "RE7UTKgrWepq"
      },
      "source": [
        "## 11. Normalize df_norm Dataset Using Standard Scaler"
      ]
    },
    {
      "cell_type": "code",
      "metadata": {
        "id": "4CjwvC2dhkeD",
        "colab": {
          "base_uri": "https://localhost:8080/",
          "height": 269
        },
        "outputId": "cf94d2be-d749-4e9f-d9c1-83eae26503b1"
      },
      "source": [
        "X_norm = preprocessing.StandardScaler().fit(X_norm).transform(X_norm.astype(float))\n",
        "X_norm[0:5]"
      ],
      "execution_count": null,
      "outputs": [
        {
          "output_type": "execute_result",
          "data": {
            "text/plain": [
              "array([[-1.01580432,  1.33831514,  2.38246438, -0.21115394, -0.11111111,\n",
              "        -1.33537031, -0.83551794, -1.19724274, -0.91150208,  1.57187375,\n",
              "        -0.30070202],\n",
              "       [ 0.98444157,  1.22315242, -0.79157427, -0.21115394, -0.11111111,\n",
              "         0.01315247,  0.62456728,  0.80765522, -0.14494034, -1.06329049,\n",
              "        -0.45256104],\n",
              "       [-1.01580432,  0.87766428, -0.79157427, -0.21115394, -0.11111111,\n",
              "         0.01315247,  0.76652001,  1.23176825,  1.80003154, -0.32215055,\n",
              "         0.94454193],\n",
              "       [ 0.98444157,  0.76250156, -0.79157427, -0.21115394, -0.11111111,\n",
              "        -0.42898615,  0.25954598,  1.50165836,  0.92158035, -0.0751039 ,\n",
              "         0.06375962],\n",
              "       [ 0.98444157, -0.27396287, -0.07741558, -0.21115394, -0.11111111,\n",
              "         0.85321584,  0.62456728,  0.6534323 ,  0.90015471, -0.98094161,\n",
              "        -0.66516366]])"
            ]
          },
          "metadata": {
            "tags": []
          },
          "execution_count": 49
        }
      ]
    },
    {
      "cell_type": "markdown",
      "metadata": {
        "id": "EJ2JKogyocWF"
      },
      "source": [
        " ## 12. Splitting df_norm Dataset to test/train Dets"
      ]
    },
    {
      "cell_type": "code",
      "metadata": {
        "id": "fVSqm8C-hkhY",
        "colab": {
          "base_uri": "https://localhost:8080/",
          "height": 50
        },
        "outputId": "87b1958f-f999-47f9-8434-c2ab7073db32"
      },
      "source": [
        "from sklearn.model_selection import train_test_split\n",
        "nX_train, nX_test, ny_train, ny_test = train_test_split( X_norm, y_norm, test_size=0.2, random_state=4)\n",
        "print ('Train set:', nX_train.shape,  ny_train.shape)\n",
        "print ('Test set:', nX_test.shape,  ny_test.shape)"
      ],
      "execution_count": null,
      "outputs": [
        {
          "output_type": "stream",
          "text": [
            "Train set: (918, 11) (918,)\n",
            "Test set: (230, 11) (230,)\n"
          ],
          "name": "stdout"
        }
      ]
    },
    {
      "cell_type": "markdown",
      "metadata": {
        "id": "dJqgHpuxou9l"
      },
      "source": [
        "## 13. Implementing KNN Algorithm Using KNeighborsClassifer\n",
        "##  and Making Predictions"
      ]
    },
    {
      "cell_type": "code",
      "metadata": {
        "id": "e56dmDg7koFr",
        "colab": {
          "base_uri": "https://localhost:8080/",
          "height": 67
        },
        "outputId": "cfb13276-30e9-423c-c51a-dcb8d819e8a1"
      },
      "source": [
        "k = 4\n",
        "#Train Model and Predict  \n",
        "neigh_norm = KNeighborsClassifier(n_neighbors = k).fit(nX_train,ny_train)\n",
        "neigh_norm"
      ],
      "execution_count": null,
      "outputs": [
        {
          "output_type": "execute_result",
          "data": {
            "text/plain": [
              "KNeighborsClassifier(algorithm='auto', leaf_size=30, metric='minkowski',\n",
              "                     metric_params=None, n_jobs=None, n_neighbors=4, p=2,\n",
              "                     weights='uniform')"
            ]
          },
          "metadata": {
            "tags": []
          },
          "execution_count": 51
        }
      ]
    },
    {
      "cell_type": "code",
      "metadata": {
        "id": "6hbW_WIykoWs",
        "colab": {
          "base_uri": "https://localhost:8080/",
          "height": 34
        },
        "outputId": "b14d5947-78ef-45b6-a880-da1f553d1f07"
      },
      "source": [
        "yhat_norm = neigh_norm.predict(nX_test)\n",
        "yhat_norm[0:5]"
      ],
      "execution_count": null,
      "outputs": [
        {
          "output_type": "execute_result",
          "data": {
            "text/plain": [
              "array([1, 0, 0, 1, 0])"
            ]
          },
          "metadata": {
            "tags": []
          },
          "execution_count": 52
        }
      ]
    },
    {
      "cell_type": "markdown",
      "metadata": {
        "id": "w-w2NEhNo-Dl"
      },
      "source": [
        "## 14. Quantitative/Qualitative Analysis"
      ]
    },
    {
      "cell_type": "code",
      "metadata": {
        "id": "iqfj7oYvk-pF",
        "colab": {
          "base_uri": "https://localhost:8080/",
          "height": 50
        },
        "outputId": "a9ef3ee9-8b34-4d84-e744-a9519e36110b"
      },
      "source": [
        "print(\"Train set Accuracy: \", metrics.accuracy_score(ny_train, neigh_norm.predict(nX_train)))\n",
        "print(\"Test set Accuracy: \", metrics.accuracy_score(ny_test, yhat_norm))"
      ],
      "execution_count": null,
      "outputs": [
        {
          "output_type": "stream",
          "text": [
            "Train set Accuracy:  0.7549019607843137\n",
            "Test set Accuracy:  0.6260869565217392\n"
          ],
          "name": "stdout"
        }
      ]
    },
    {
      "cell_type": "markdown",
      "metadata": {
        "id": "knE10NAjpEvD"
      },
      "source": [
        "### Finding best K for classification accuracy"
      ]
    },
    {
      "cell_type": "code",
      "metadata": {
        "id": "zGhJZABql-vt",
        "colab": {
          "base_uri": "https://localhost:8080/",
          "height": 50
        },
        "outputId": "fcad9035-7af8-4d7c-8c9c-4c308951ab7e"
      },
      "source": [
        "Ks = 10\n",
        "mean_acc_norm = np.zeros((Ks-1))\n",
        "std_acc = np.zeros((Ks-1))\n",
        "ConfustionMx = [];\n",
        "for n in range(1,Ks):\n",
        "    \n",
        "    #Train Model and Predict  \n",
        "    neigh_norm = KNeighborsClassifier(n_neighbors = n).fit(nX_train,ny_train)\n",
        "    yhat_norm=neigh_norm.predict(nX_test)\n",
        "    mean_acc_norm[n-1] = metrics.accuracy_score(ny_test, yhat_norm)\n",
        "\n",
        "    \n",
        "    std_acc[n-1]=np.std(yhat_norm==ny_test)/np.sqrt(yhat_norm.shape[0])\n",
        "\n",
        "mean_acc_norm"
      ],
      "execution_count": null,
      "outputs": [
        {
          "output_type": "execute_result",
          "data": {
            "text/plain": [
              "array([0.59130435, 0.5826087 , 0.63043478, 0.62608696, 0.62608696,\n",
              "       0.62173913, 0.64347826, 0.60869565, 0.62608696])"
            ]
          },
          "metadata": {
            "tags": []
          },
          "execution_count": 54
        }
      ]
    },
    {
      "cell_type": "code",
      "metadata": {
        "id": "6rysDAPdmArv",
        "colab": {
          "base_uri": "https://localhost:8080/",
          "height": 297
        },
        "outputId": "c9288851-322e-493a-97ea-80b359bc798f"
      },
      "source": [
        "#plot k= 1:10 accuracy measures and find best k\n",
        "plt.plot(range(1,Ks),mean_acc_norm,'g')\n",
        "plt.fill_between(range(1,Ks),mean_acc_norm - 1 * std_acc,mean_acc_norm + 1 * std_acc, alpha=0.10)\n",
        "plt.legend(('Accuracy ', '+/- 3xstd'))\n",
        "plt.ylabel('Accuracy ')\n",
        "plt.xlabel('Number of Neighbors (K)')\n",
        "plt.tight_layout()\n",
        "plt.show()"
      ],
      "execution_count": null,
      "outputs": [
        {
          "output_type": "display_data",
          "data": {
            "image/png": "[encoded data removed]",
            "text/plain": [
              "<Figure size 432x288 with 1 Axes>"
            ]
          },
          "metadata": {
            "tags": [],
            "needs_background": "light"
          }
        }
      ]
    },
    {
      "cell_type": "code",
      "metadata": {
        "id": "x_ZeHJJRmWgv",
        "colab": {
          "base_uri": "https://localhost:8080/",
          "height": 34
        },
        "outputId": "6a132ad6-36bf-4007-e94d-2ace20ca686c"
      },
      "source": [
        "print( \"The best accuracy was with\", mean_acc_norm.max(), \"with k=\", mean_acc_norm.argmax()+1) "
      ],
      "execution_count": null,
      "outputs": [
        {
          "output_type": "stream",
          "text": [
            "The best accuracy was with 0.6434782608695652 with k= 7\n"
          ],
          "name": "stdout"
        }
      ]
    },
    {
      "cell_type": "markdown",
      "metadata": {
        "id": "v1frF1TZpS7X"
      },
      "source": [
        "### Other Measures"
      ]
    },
    {
      "cell_type": "code",
      "metadata": {
        "id": "4saKswNCmlo1",
        "colab": {
          "base_uri": "https://localhost:8080/",
          "height": 283
        },
        "outputId": "ed91d76f-6f0c-42e3-c69f-6724f382aac8"
      },
      "source": [
        "#create and plot new confusion matrix using test set target\n",
        "# and predicted target for df_norm\n",
        "cm_norm = confusion_matrix(ny_test, yhat_norm)\n",
        "\n",
        "ax= plt.subplot()\n",
        "sns.heatmap(pd.DataFrame(cm_norm), annot=True,cmap=\"Reds\" , fmt='g')\n",
        "\n",
        "ax.set_xlabel('Predicted ');ax.set_ylabel('True'); "
      ],
      "execution_count": null,
      "outputs": [
        {
          "output_type": "display_data",
          "data": {
            "image/png": "[encoded data removed]",
            "text/plain": [
              "<Figure size 432x288 with 2 Axes>"
            ]
          },
          "metadata": {
            "tags": [],
            "needs_background": "light"
          }
        }
      ]
    },
    {
      "cell_type": "code",
      "metadata": {
        "id": "AurHzTNsmmNA",
        "colab": {
          "base_uri": "https://localhost:8080/",
          "height": 298
        },
        "outputId": "0674aebc-30d3-40ee-97bd-a5bdfd174978"
      },
      "source": [
        "#Calculate and plot roc curve and auc score\n",
        "#for df_norm\n",
        "fpr, tpr, _ = roc_curve(ny_test, yhat_norm)\n",
        "auc = roc_auc_score(ny_test, yhat_norm)\n",
        "plt.plot(fpr,tpr,label=\"data 1, auc=\"+str(auc))\n",
        "plt.legend(loc=4)\n",
        "plt.box(False)\n",
        "plt.title ('ROC CURVE KNN')\n",
        "plt.show()\n",
        "\n",
        "print(f\"The score for the AUC ROC Curve is: {round(auc,3)*100}%\")"
      ],
      "execution_count": null,
      "outputs": [
        {
          "output_type": "display_data",
          "data": {
            "image/png": "[encoded data removed]",
            "text/plain": [
              "<Figure size 432x288 with 1 Axes>"
            ]
          },
          "metadata": {
            "tags": [],
            "needs_background": "light"
          }
        },
        {
          "output_type": "stream",
          "text": [
            "The score for the AUC ROC Curve is: 62.7%\n"
          ],
          "name": "stdout"
        }
      ]
    },
    {
      "cell_type": "code",
      "metadata": {
        "id": "lBG9U3mOyjhu",
        "colab": {
          "base_uri": "https://localhost:8080/",
          "height": 168
        },
        "outputId": "1eee4549-3e5b-4e73-c482-de39e7713c98"
      },
      "source": [
        "from sklearn.metrics import classification_report \n",
        "#classification report for df_norm\n",
        "nmodel_classification = classification_report(ny_test, yhat_norm)\n",
        "print(nmodel_classification)"
      ],
      "execution_count": null,
      "outputs": [
        {
          "output_type": "stream",
          "text": [
            "              precision    recall  f1-score   support\n",
            "\n",
            "           0       0.66      0.61      0.64       123\n",
            "           1       0.59      0.64      0.62       107\n",
            "\n",
            "    accuracy                           0.63       230\n",
            "   macro avg       0.63      0.63      0.63       230\n",
            "weighted avg       0.63      0.63      0.63       230\n",
            "\n"
          ],
          "name": "stdout"
        }
      ]
    },
    {
      "cell_type": "code",
      "metadata": {
        "id": "w9Uwy_eV0pSR",
        "colab": {
          "base_uri": "https://localhost:8080/",
          "height": 84
        },
        "outputId": "139d7ac9-f50f-4148-cc6b-1739ee988ea4"
      },
      "source": [
        "#finding additional quantitative measures\n",
        "#for df_norm analysis\n",
        "ntotal=sum(sum(cm_norm))\n",
        "#####from confusion matrix calculate accuracy\n",
        "naccuracy=(cm_norm[0,0]+cm_norm[1,1])/ntotal\n",
        "print ('Accuracy : ', naccuracy)\n",
        "\n",
        "nsensitivity = cm_norm[0,0]/(cm_norm[0,0]+cm_norm[0,1])\n",
        "print('Sensitivity : ', nsensitivity)\n",
        "\n",
        "nspecificity = cm_norm[1,1]/(cm_norm[1,0]+cm_norm[1,1])\n",
        "print('Specificity : ', nspecificity)\n",
        "\n",
        "#Youden's Index\n",
        "nyouden = nspecificity+nsensitivity - 1\n",
        "print('Youden Index : ', nyouden)"
      ],
      "execution_count": null,
      "outputs": [
        {
          "output_type": "stream",
          "text": [
            "Accuracy :  0.6260869565217392\n",
            "Sensitivity :  0.6097560975609756\n",
            "Specificity :  0.6448598130841121\n",
            "Youden Index :  0.2546159106450876\n"
          ],
          "name": "stdout"
        }
      ]
    },
    {
      "cell_type": "markdown",
      "metadata": {
        "id": "cdmPI7yBp8pZ"
      },
      "source": [
        "## Analysis of df_norm KNN classification:\n",
        "*The measures on the second dataset gave mixed results. The accuracy scores did decrease and the scores for training and testing were further apart pointing to some overfitting of the model. The AUC curve for the second model however is higher than the model with the original data with a score of 0.635 as opposed to a score of 0.53 in the original data. More observations with 10 year risk for heart disease were accurately identified, however this did come at a cost of more false negatives. This also resulted in a lower sensitivity score (0.64) but a much higher specificity (0.63) score. The score for precision also decreased to (0.67). Overall this change resulted in an improved Youden’s Index score (although still fairly low since the ideal score is 1) of 0.27. With the exception of a possible overfitting problem it would appear that using the sampled data that was balanced did improve the model and results.*"
      ]
    }
  ]
}